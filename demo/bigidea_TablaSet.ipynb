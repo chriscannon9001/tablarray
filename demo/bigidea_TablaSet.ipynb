{
 "cells": [
  {
   "cell_type": "markdown",
   "id": "afraid-indian",
   "metadata": {},
   "source": [
    "# the Big Idea of TablaSet: indexed datasets with projections\n",
    "\n",
    "In physics and engineering, sometimes it seems natural to represent many parameters as elements of some kind of dataset, for example a dict of arrays.\n",
    "\n",
    "A TablaSet is a dataset indexed with keys like a dict of TablArrays, but furthered by new principles:\n",
    "\n",
    "1. A TablaSet keeps track of the master shape you would get as a result if you broadcast all elements together.\n",
    "\n",
    "2. New elements cannot be added unless they are broadcast-compatible with all other elements. (Otherwise the maser shape would become undefined.)\n",
    "\n",
    "3. A client can query a TablaSet using projections, which means that indexing is with respect to the master shape rather than the element shapes.\n",
    "\n",
    "Projections make degeneracy transparent - you need to know something about the master shape to call for a projected element, but you don't need to know the shape of the element, in other words you don't need to know the element's degeneracy in order to call a projection.\n",
    "\n",
    "## Compared to a database\n",
    "\n",
    "If you take together the concepts of indexing and projections, there is application overlap between a TablaSet and a database such as SQL or pandas.DataFrame. TablaSet has differences:\n",
    "\n",
    "* The broadcast-compatibility of TablaSet makes it a more specific type of database (useful in physics and engineering and similar applications).\n",
    "* Slicing is fundamentally faster than querying.\n",
    "* Databases may be more appropriate if the tabular shapes are fundamentally ragged, which negates the usefulness of slicing anyways.\n",
    "\n",
    "## More docs coming\n",
    "\n",
    "I'm considering some possible significant changes that might make TablaSet easier to work with:\n",
    "\n",
    "* plotting (both TablArray and TablaSet)\n",
    "* make TablaSet's master shape public"
   ]
  }
 ],
 "metadata": {
  "kernelspec": {
   "display_name": "env2",
   "language": "python",
   "name": "env2"
  },
  "language_info": {
   "codemirror_mode": {
    "name": "ipython",
    "version": 3
   },
   "file_extension": ".py",
   "mimetype": "text/x-python",
   "name": "python",
   "nbconvert_exporter": "python",
   "pygments_lexer": "ipython3",
   "version": "3.9.2"
  }
 },
 "nbformat": 4,
 "nbformat_minor": 5
}

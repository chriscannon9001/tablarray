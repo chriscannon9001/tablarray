{
 "cells": [
  {
   "cell_type": "markdown",
   "id": "patient-liability",
   "metadata": {},
   "source": [
    "# the Big Idea of TablaSolve: object oriented seed data, solvers, and auto calc\n",
    "\n",
    "TablaSolve adds solvers to a TablaSet."
   ]
  },
  {
   "cell_type": "code",
   "execution_count": null,
   "id": "specialized-chess",
   "metadata": {},
   "outputs": [],
   "source": []
  }
 ],
 "metadata": {
  "kernelspec": {
   "display_name": "env2",
   "language": "python",
   "name": "env2"
  },
  "language_info": {
   "codemirror_mode": {
    "name": "ipython",
    "version": 3
   },
   "file_extension": ".py",
   "mimetype": "text/x-python",
   "name": "python",
   "nbconvert_exporter": "python",
   "pygments_lexer": "ipython3",
   "version": "3.9.2"
  }
 },
 "nbformat": 4,
 "nbformat_minor": 5
}
